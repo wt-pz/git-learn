{
 "cells": [
  {
   "cell_type": "code",
   "id": "initial_id",
   "metadata": {
    "collapsed": true,
    "ExecuteTime": {
     "end_time": "2025-04-06T11:42:17.734671Z",
     "start_time": "2025-04-06T11:42:05.731238Z"
    }
   },
   "source": [
    "# mlp_fashion_mnist_torch.py\n",
    "import numpy as np\n",
    "import torch\n",
    "import torch.nn.functional as F\n",
    "from torch.utils.data import DataLoader, TensorDataset\n",
    "from sklearn.datasets import fetch_openml\n",
    "from sklearn.model_selection import train_test_split\n",
    "from sklearn.preprocessing import OneHotEncoder\n",
    "\n",
    "# 加载Fashion-MNIST数据集\n",
    "fashion_mnist = fetch_openml('Fashion-MNIST', version=1)\n",
    "X = fashion_mnist.data.astype('float32') / 255.0\n",
    "y = fashion_mnist.target.astype('int')"
   ],
   "outputs": [
    {
     "name": "stderr",
     "output_type": "stream",
     "text": [
      "C:\\Users\\15839\\anaconda3\\envs\\learn_pytorch\\lib\\site-packages\\scipy\\__init__.py:132: UserWarning: A NumPy version >=1.21.6 and <1.28.0 is required for this version of SciPy (detected version 1.21.5)\n",
      "  warnings.warn(f\"A NumPy version >={np_minversion} and <{np_maxversion}\"\n"
     ]
    }
   ],
   "execution_count": 1
  },
  {
   "metadata": {
    "ExecuteTime": {
     "end_time": "2025-03-23T08:42:32.863628Z",
     "start_time": "2025-03-23T08:42:32.827627Z"
    }
   },
   "cell_type": "code",
   "source": [
    "import numpy as np\n",
    "\n",
    "# 查看 X 的形状和前几行数据\n",
    "print(\"X 的形状:\", X.shape)\n",
    "print(\"X 的前5行数据:\\n\", X[:5])\n",
    "\n",
    "# 查看 y 的形状和前几个标签\n",
    "print(\"y 的形状:\", y.shape)\n",
    "print(\"y 的前10个标签:\", y[:10])"
   ],
   "id": "8e33841c11491ee5",
   "outputs": [
    {
     "name": "stdout",
     "output_type": "stream",
     "text": [
      "X 的形状: (70000, 784)\n",
      "X 的前5行数据:\n",
      "    pixel1  pixel2  pixel3  pixel4  pixel5    pixel6  pixel7  pixel8    pixel9  \\\n",
      "0     0.0     0.0     0.0     0.0     0.0  0.000000     0.0     0.0  0.000000   \n",
      "1     0.0     0.0     0.0     0.0     0.0  0.003922     0.0     0.0  0.000000   \n",
      "2     0.0     0.0     0.0     0.0     0.0  0.000000     0.0     0.0  0.000000   \n",
      "3     0.0     0.0     0.0     0.0     0.0  0.000000     0.0     0.0  0.129412   \n",
      "4     0.0     0.0     0.0     0.0     0.0  0.000000     0.0     0.0  0.000000   \n",
      "\n",
      "    pixel10  ...  pixel775  pixel776  pixel777  pixel778  pixel779  pixel780  \\\n",
      "0  0.000000  ...  0.000000  0.000000  0.000000  0.000000       0.0       0.0   \n",
      "1  0.000000  ...  0.466667  0.447059  0.509804  0.298039       0.0       0.0   \n",
      "2  0.086275  ...  0.000000  0.000000  0.003922  0.000000       0.0       0.0   \n",
      "3  0.376471  ...  0.000000  0.000000  0.000000  0.000000       0.0       0.0   \n",
      "4  0.000000  ...  0.000000  0.000000  0.000000  0.000000       0.0       0.0   \n",
      "\n",
      "   pixel781  pixel782  pixel783  pixel784  \n",
      "0       0.0       0.0       0.0       0.0  \n",
      "1       0.0       0.0       0.0       0.0  \n",
      "2       0.0       0.0       0.0       0.0  \n",
      "3       0.0       0.0       0.0       0.0  \n",
      "4       0.0       0.0       0.0       0.0  \n",
      "\n",
      "[5 rows x 784 columns]\n",
      "y 的形状: (70000,)\n",
      "y 的前10个标签: 0    9\n",
      "1    0\n",
      "2    0\n",
      "3    3\n",
      "4    0\n",
      "5    2\n",
      "6    7\n",
      "7    2\n",
      "8    5\n",
      "9    5\n",
      "Name: class, dtype: int32\n"
     ]
    }
   ],
   "execution_count": 2
  },
  {
   "metadata": {
    "ExecuteTime": {
     "end_time": "2025-04-06T11:42:28.099622Z",
     "start_time": "2025-04-06T11:42:27.570080Z"
    }
   },
   "cell_type": "code",
   "source": [
    "# 加载Fashion-MNIST数据集\n",
    "y = y.values\n",
    "# 将标签转换为one-hot编码\n",
    "encoder = OneHotEncoder(sparse_output=False)\n",
    "y_one_hot = encoder.fit_transform(y.reshape(-1, 1)).astype('float32')  # Ensure float32\n",
    "\n",
    "# 划分训练集和测试集\n",
    "X_train, X_test, y_train, y_test = train_test_split(X, y_one_hot, test_size=0.2, random_state=42)\n",
    "# 转换为PyTorch张量\n",
    "X_train = torch.tensor(X_train.values if hasattr(X_train, 'values') else np.array(X_train), dtype=torch.float32)\n",
    "X_test = torch.tensor(X_test.values if hasattr(X_test, 'values') else np.array(X_test), dtype=torch.float32)\n",
    "y_train = torch.tensor(y_train.values if hasattr(y_train, 'values') else np.array(y_train), dtype=torch.float32)\n",
    "y_test = torch.tensor(y_test.values if hasattr(y_test, 'values') else np.array(y_test), dtype=torch.float32)\n",
    "\n",
    "# 创建DataLoader\n",
    "train_dataset = TensorDataset(X_train, y_train)\n",
    "train_loader = DataLoader(train_dataset, batch_size=64, shuffle=True)"
   ],
   "id": "f8056831e9bb52e3",
   "outputs": [],
   "execution_count": 2
  },
  {
   "metadata": {
    "ExecuteTime": {
     "end_time": "2025-04-06T11:42:52.161177Z",
     "start_time": "2025-04-06T11:42:52.149503Z"
    }
   },
   "cell_type": "code",
   "source": [
    "input_size = X_train.shape[1]\n",
    "hidden_size = 128\n",
    "output_size = y_train.shape[1]\n",
    "print(input_size,output_size)"
   ],
   "id": "1e7cda0c9805cf82",
   "outputs": [
    {
     "name": "stdout",
     "output_type": "stream",
     "text": [
      "784 10\n"
     ]
    }
   ],
   "execution_count": 3
  },
  {
   "metadata": {
    "ExecuteTime": {
     "end_time": "2025-04-06T11:43:28.790025Z",
     "start_time": "2025-04-06T11:43:28.780500Z"
    }
   },
   "cell_type": "code",
   "source": "print(X_train.shape)",
   "id": "657519db07bc1f83",
   "outputs": [
    {
     "name": "stdout",
     "output_type": "stream",
     "text": [
      "torch.Size([56000, 784])\n"
     ]
    }
   ],
   "execution_count": 4
  },
  {
   "metadata": {
    "ExecuteTime": {
     "end_time": "2025-04-06T11:43:53.217212Z",
     "start_time": "2025-04-06T11:43:53.205199Z"
    }
   },
   "cell_type": "code",
   "source": "print(y_train.shape)",
   "id": "51a0a98b404d445a",
   "outputs": [
    {
     "name": "stdout",
     "output_type": "stream",
     "text": [
      "torch.Size([56000, 10])\n"
     ]
    }
   ],
   "execution_count": 5
  },
  {
   "metadata": {},
   "cell_type": "code",
   "outputs": [],
   "execution_count": null,
   "source": "",
   "id": "64ab393f7ccd53df"
  }
 ],
 "metadata": {
  "kernelspec": {
   "display_name": "Python 3",
   "language": "python",
   "name": "python3"
  },
  "language_info": {
   "codemirror_mode": {
    "name": "ipython",
    "version": 2
   },
   "file_extension": ".py",
   "mimetype": "text/x-python",
   "name": "python",
   "nbconvert_exporter": "python",
   "pygments_lexer": "ipython2",
   "version": "2.7.6"
  }
 },
 "nbformat": 4,
 "nbformat_minor": 5
}
