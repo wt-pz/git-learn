{
 "cells": [
  {
   "cell_type": "code",
   "id": "initial_id",
   "metadata": {
    "collapsed": true,
    "ExecuteTime": {
     "end_time": "2025-03-21T07:03:29.258556Z",
     "start_time": "2025-03-21T07:03:26.425969Z"
    }
   },
   "source": [
    "import torch\n",
    "import torch.nn as nn\n",
    "\n",
    "# 定义一个简单的卷积层\n",
    "conv_layer = nn.Conv2d(in_channels=3, out_channels=16, kernel_size=3, stride=1, padding=1)\n",
    "\n",
    "# 定义一个最大池化层\n",
    "maxpool_layer = nn.MaxPool2d(kernel_size=2, stride=2)\n",
    "\n",
    "# 假设输入是一个 3通道的 32x32 图像\n",
    "input_tensor = torch.randn(1, 3, 32, 32)\n",
    "\n",
    "# 通过卷积层\n",
    "output_conv = conv_layer(input_tensor)\n",
    "\n",
    "# 通过最大池化层\n",
    "output_maxpool = maxpool_layer(output_conv)\n",
    "\n",
    "print(output_conv.shape)  # 输出卷积后的特征图形状\n",
    "print(output_maxpool.shape)  # 输出池化后的特征图形状"
   ],
   "outputs": [
    {
     "name": "stdout",
     "output_type": "stream",
     "text": [
      "torch.Size([1, 16, 32, 32])\n",
      "torch.Size([1, 16, 16, 16])\n"
     ]
    }
   ],
   "execution_count": 1
  },
  {
   "metadata": {},
   "cell_type": "code",
   "outputs": [],
   "execution_count": null,
   "source": "",
   "id": "813c4ec724fac59"
  }
 ],
 "metadata": {
  "kernelspec": {
   "display_name": "Python 3",
   "language": "python",
   "name": "python3"
  },
  "language_info": {
   "codemirror_mode": {
    "name": "ipython",
    "version": 2
   },
   "file_extension": ".py",
   "mimetype": "text/x-python",
   "name": "python",
   "nbconvert_exporter": "python",
   "pygments_lexer": "ipython2",
   "version": "2.7.6"
  }
 },
 "nbformat": 4,
 "nbformat_minor": 5
}
