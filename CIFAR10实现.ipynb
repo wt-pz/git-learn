{
 "cells": [
  {
   "cell_type": "code",
   "id": "initial_id",
   "metadata": {
    "collapsed": true,
    "ExecuteTime": {
     "end_time": "2025-03-21T06:51:11.565284Z",
     "start_time": "2025-03-21T06:51:06.774190Z"
    }
   },
   "source": [
    "import torch\n",
    "import torchvision\n",
    "from torch.utils.data import DataLoader\n"
   ],
   "outputs": [],
   "execution_count": 2
  },
  {
   "metadata": {
    "ExecuteTime": {
     "end_time": "2025-03-21T06:52:54.830092Z",
     "start_time": "2025-03-21T06:51:12.534649Z"
    }
   },
   "cell_type": "code",
   "source": [
    "device = torch.device('cuda' if torch.cuda.is_available() else 'cpu')\n",
    "train_data = torchvision.datasets.CIFAR10(root='./dataset', train=True, download=True, transform=torchvision.transforms.ToTensor())\n",
    "test_data = torchvision.datasets.CIFAR10(root='./dataset', train=False, download=True, transform=torchvision.transforms.ToTensor())\n",
    "train_data_size = len(train_data)\n",
    "test_data_size = len(test_data)\n",
    "print(f'训练数据集的长度{train_data_size}')\n",
    "print(f'测试数据集的长度{test_data_size}')"
   ],
   "id": "9abae743bd910f5",
   "outputs": [
    {
     "name": "stdout",
     "output_type": "stream",
     "text": [
      "Downloading https://www.cs.toronto.edu/~kriz/cifar-10-python.tar.gz to ./dataset\\cifar-10-python.tar.gz\n"
     ]
    },
    {
     "name": "stderr",
     "output_type": "stream",
     "text": [
      "100.0%\n"
     ]
    },
    {
     "name": "stdout",
     "output_type": "stream",
     "text": [
      "Extracting ./dataset\\cifar-10-python.tar.gz to ./dataset\n",
      "Files already downloaded and verified\n",
      "训练数据集的长度50000\n",
      "测试数据集的长度10000\n"
     ]
    }
   ],
   "execution_count": 3
  },
  {
   "metadata": {
    "ExecuteTime": {
     "end_time": "2025-03-21T06:53:02.961335Z",
     "start_time": "2025-03-21T06:53:02.949233Z"
    }
   },
   "cell_type": "code",
   "source": [
    "from torch.utils.data import DataLoader\n",
    "train_loader = DataLoader(train_data, batch_size=64)\n",
    "test_loader = DataLoader(test_data, batch_size=64)\n"
   ],
   "id": "3fc1b398e0edc1df",
   "outputs": [],
   "execution_count": 4
  },
  {
   "metadata": {
    "ExecuteTime": {
     "end_time": "2025-03-21T07:43:09.562844Z",
     "start_time": "2025-03-21T07:43:09.534548Z"
    }
   },
   "cell_type": "code",
   "source": [
    "class model(torch.nn.Module):\n",
    "    def __init__(self):\n",
    "        super(model, self).__init__()\n",
    "        self.model1 = torch.nn.Sequential(\n",
    "            torch.nn.Conv2d(3, 32, kernel_size=5, padding=2),\n",
    "            torch.nn.MaxPool2d(2),\n",
    "            torch.nn.Conv2d(32, 32, kernel_size=5, padding=2),\n",
    "            torch.nn.MaxPool2d(2),\n",
    "            torch.nn.Conv2d(32, 64, kernel_size=5, padding=2),\n",
    "            torch.nn.MaxPool2d(2),\n",
    "            torch.nn.Flatten(),\n",
    "            torch.nn.Linear(1024, 64),\n",
    "            torch.nn.Linear(64, 10),\n",
    "        )\n",
    "\n",
    "    def forward(self, x):\n",
    "        x = self.model1(x)\n",
    "        return x"
   ],
   "id": "b4ff39e839cfbbe2",
   "outputs": [],
   "execution_count": 6
  },
  {
   "metadata": {
    "ExecuteTime": {
     "end_time": "2025-03-21T07:43:43.424734Z",
     "start_time": "2025-03-21T07:43:43.383701Z"
    }
   },
   "cell_type": "code",
   "source": [
    "model = model()\n",
    "model = model.to(device)"
   ],
   "id": "30dc6730c1a5fa31",
   "outputs": [],
   "execution_count": 7
  },
  {
   "metadata": {
    "ExecuteTime": {
     "end_time": "2025-03-21T07:44:36.136234Z",
     "start_time": "2025-03-21T07:44:36.099549Z"
    }
   },
   "cell_type": "code",
   "source": [
    "loss_fn = torch.nn.CrossEntropyLoss()\n",
    "loss_fn = loss_fn.to(device)\n",
    "optimizer = torch.optim.SGD(model.parameters(), lr=0.01)"
   ],
   "id": "80f78e6ae90c1558",
   "outputs": [],
   "execution_count": 8
  },
  {
   "metadata": {
    "ExecuteTime": {
     "end_time": "2025-03-21T07:44:58.431107Z",
     "start_time": "2025-03-21T07:44:58.419099Z"
    }
   },
   "cell_type": "code",
   "source": [
    "total_train_step = 0\n",
    "total_test_step = 0\n",
    "epoch =10"
   ],
   "id": "cd3101f56a35c329",
   "outputs": [],
   "execution_count": 9
  },
  {
   "metadata": {
    "ExecuteTime": {
     "end_time": "2025-03-21T08:30:34.753158Z",
     "start_time": "2025-03-21T08:23:20.768611Z"
    }
   },
   "cell_type": "code",
   "source": [
    "\n",
    "import time\n",
    "\n",
    "\n",
    "start_time = time.time()\n",
    "for i in range(epoch):\n",
    "    print(f'-----------第{i + 1}轮训练开始----------')\n",
    "    for data in train_loader:\n",
    "        img,label = data\n",
    "        img = img.to(device)\n",
    "        label = label.to(device)\n",
    "        output = model(img)\n",
    "        loss = loss_fn(output, label)\n",
    "        optimizer.zero_grad() #optimizer.zero_grad() 清空优化器的梯度\n",
    "        loss.backward() #loss.backward() 计算损失相对于模型参数的梯度。\n",
    "        optimizer.step() #optimizer.step() 更新模型参数。\n",
    "\n",
    "        total_train_step += 1\n",
    "        if total_train_step % 100 == 0:\n",
    "            end_time = time.time()\n",
    "            print(end_time - start_time)\n",
    "            print(f'训练次数{total_train_step}，Loss：{loss.item()}')\n",
    "\n",
    "    model.eval()\n",
    "    total_test_loss = 0\n",
    "    total_accuracy = 0\n",
    "    with torch.no_grad():\n",
    "        for data in test_loader:\n",
    "            img, label = data\n",
    "            img = img.to(device)\n",
    "            label = label.to(device)\n",
    "            output = model(img)\n",
    "            loss = loss_fn(output, label)\n",
    "            total_test_loss += loss.item()\n",
    "            accuracy = (output.argmax(1) == label).sum()\n",
    "            total_accuracy += accuracy\n",
    "        print(f'整体测试集上的loss：{total_test_loss}')\n",
    "        print(f'整体测试集上的正确率：{total_accuracy / test_data_size}')\n",
    "\n",
    "        total_test_step += 1\n",
    "\n",
    "        torch.save(model.state_dict(), f'wt{i}.pth')\n",
    "        print('模型已保存')\n"
   ],
   "id": "d60ac747cc362fd4",
   "outputs": [
    {
     "name": "stdout",
     "output_type": "stream",
     "text": [
      "-----------第1轮训练开始----------\n",
      "5.349006652832031\n",
      "训练次数100，Loss：2.2901556491851807\n",
      "10.488433599472046\n",
      "训练次数200，Loss：2.2801098823547363\n",
      "15.50047516822815\n",
      "训练次数300，Loss：2.2424745559692383\n",
      "20.63086700439453\n",
      "训练次数400，Loss：2.147754669189453\n",
      "25.63570761680603\n",
      "训练次数500，Loss：2.031214952468872\n",
      "30.608842849731445\n",
      "训练次数600，Loss：1.996639609336853\n",
      "35.41980051994324\n",
      "训练次数700，Loss：2.022691249847412\n",
      "整体测试集上的loss：318.85076904296875\n",
      "整体测试集上的正确率：0.2754000127315521\n",
      "模型已保存\n",
      "-----------第2轮训练开始----------\n",
      "44.34820747375488\n",
      "训练次数800，Loss：1.9004418849945068\n",
      "49.19538474082947\n",
      "训练次数900，Loss：1.8871550559997559\n",
      "54.14150667190552\n",
      "训练次数1000，Loss：1.9384347200393677\n",
      "59.01002311706543\n",
      "训练次数1100，Loss：1.9878665208816528\n",
      "63.82973837852478\n",
      "训练次数1200，Loss：1.7271331548690796\n",
      "68.84346389770508\n",
      "训练次数1300，Loss：1.693472146987915\n",
      "73.92446994781494\n",
      "训练次数1400，Loss：1.7472727298736572\n",
      "78.9309093952179\n",
      "训练次数1500，Loss：1.845133662223816\n",
      "整体测试集上的loss：297.33985805511475\n",
      "整体测试集上的正确率：0.32019999623298645\n",
      "模型已保存\n",
      "-----------第3轮训练开始----------\n",
      "87.92960262298584\n",
      "训练次数1600，Loss：1.8355772495269775\n",
      "92.83217906951904\n",
      "训练次数1700，Loss：1.6659873723983765\n",
      "97.79121375083923\n",
      "训练次数1800，Loss：1.9538477659225464\n",
      "102.89201331138611\n",
      "训练次数1900，Loss：1.7034962177276611\n",
      "107.86515617370605\n",
      "训练次数2000，Loss：1.9266151189804077\n",
      "112.79249143600464\n",
      "训练次数2100，Loss：1.5594919919967651\n",
      "117.50515484809875\n",
      "训练次数2200，Loss：1.5134798288345337\n",
      "122.0783920288086\n",
      "训练次数2300，Loss：1.8081715106964111\n",
      "整体测试集上的loss：262.4789799451828\n",
      "整体测试集上的正确率：0.3939000070095062\n",
      "模型已保存\n",
      "-----------第4轮训练开始----------\n",
      "130.51452016830444\n",
      "训练次数2400，Loss：1.7756448984146118\n",
      "135.3369152545929\n",
      "训练次数2500，Loss：1.4108099937438965\n",
      "140.1612389087677\n",
      "训练次数2600，Loss：1.563126564025879\n",
      "145.20054960250854\n",
      "训练次数2700，Loss：1.7087440490722656\n",
      "150.5293791294098\n",
      "训练次数2800，Loss：1.4334971904754639\n",
      "155.83072113990784\n",
      "训练次数2900，Loss：1.6137586832046509\n",
      "160.93895292282104\n",
      "训练次数3000，Loss：1.3615648746490479\n",
      "165.8432080745697\n",
      "训练次数3100，Loss：1.522338628768921\n",
      "整体测试集上的loss：257.22648906707764\n",
      "整体测试集上的正确率：0.4004000127315521\n",
      "模型已保存\n",
      "-----------第5轮训练开始----------\n",
      "174.65191650390625\n",
      "训练次数3200，Loss：1.3573122024536133\n",
      "179.6567702293396\n",
      "训练次数3300，Loss：1.4738948345184326\n",
      "184.6024079322815\n",
      "训练次数3400，Loss：1.5280665159225464\n",
      "189.1798450946808\n",
      "训练次数3500，Loss：1.5645177364349365\n",
      "193.98336744308472\n",
      "训练次数3600，Loss：1.6245479583740234\n",
      "199.0511155128479\n",
      "训练次数3700，Loss：1.3330401182174683\n",
      "204.30931043624878\n",
      "训练次数3800，Loss：1.321810245513916\n",
      "209.4516303539276\n",
      "训练次数3900，Loss：1.4743263721466064\n",
      "整体测试集上的loss：252.24510312080383\n",
      "整体测试集上的正确率：0.4203000068664551\n",
      "模型已保存\n",
      "-----------第6轮训练开始----------\n",
      "218.0925736427307\n",
      "训练次数4000，Loss：1.3938355445861816\n",
      "223.0610589981079\n",
      "训练次数4100，Loss：1.4528563022613525\n",
      "227.51310968399048\n",
      "训练次数4200，Loss：1.518258810043335\n",
      "232.45865678787231\n",
      "训练次数4300，Loss：1.2280397415161133\n",
      "237.79462957382202\n",
      "训练次数4400，Loss：1.1621601581573486\n",
      "243.17587518692017\n",
      "训练次数4500，Loss：1.391682505607605\n",
      "248.50891852378845\n",
      "训练次数4600，Loss：1.4286187887191772\n",
      "整体测试集上的loss：240.93173933029175\n",
      "整体测试集上的正确率：0.44339999556541443\n",
      "模型已保存\n",
      "-----------第7轮训练开始----------\n",
      "258.69836139678955\n",
      "训练次数4700，Loss：1.343636155128479\n",
      "263.84871220588684\n",
      "训练次数4800，Loss：1.5708181858062744\n",
      "268.8882703781128\n",
      "训练次数4900，Loss：1.4137229919433594\n",
      "273.3901176452637\n",
      "训练次数5000，Loss：1.4138721227645874\n",
      "278.45900106430054\n",
      "训练次数5100，Loss：1.0267027616500854\n",
      "283.336261510849\n",
      "训练次数5200，Loss：1.319289207458496\n",
      "288.53164315223694\n",
      "训练次数5300，Loss：1.2343902587890625\n",
      "293.24570775032043\n",
      "训练次数5400，Loss：1.3832193613052368\n",
      "整体测试集上的loss：229.03426206111908\n",
      "整体测试集上的正确率：0.47099998593330383\n",
      "模型已保存\n",
      "-----------第8轮训练开始----------\n",
      "301.9212634563446\n",
      "训练次数5500，Loss：1.2227084636688232\n",
      "306.7301366329193\n",
      "训练次数5600，Loss：1.2261316776275635\n",
      "312.1944212913513\n",
      "训练次数5700，Loss：1.2149027585983276\n",
      "317.3602330684662\n",
      "训练次数5800，Loss：1.3034015893936157\n",
      "322.37002635002136\n",
      "训练次数5900，Loss：1.3607102632522583\n",
      "327.06997442245483\n",
      "训练次数6000，Loss：1.510706901550293\n",
      "331.13933539390564\n",
      "训练次数6100，Loss：1.0875942707061768\n",
      "336.46267890930176\n",
      "训练次数6200，Loss：1.1355689764022827\n",
      "整体测试集上的loss：217.91939055919647\n",
      "整体测试集上的正确率：0.49799999594688416\n",
      "模型已保存\n",
      "-----------第9轮训练开始----------\n",
      "346.3545982837677\n",
      "训练次数6300，Loss：1.3866368532180786\n",
      "351.78755617141724\n",
      "训练次数6400，Loss：1.1429474353790283\n",
      "357.00423216819763\n",
      "训练次数6500，Loss：1.577906608581543\n",
      "362.4049029350281\n",
      "训练次数6600，Loss：1.1603202819824219\n",
      "367.5758216381073\n",
      "训练次数6700，Loss：1.1278676986694336\n",
      "372.49095368385315\n",
      "训练次数6800，Loss：1.1920015811920166\n",
      "377.374769449234\n",
      "训练次数6900，Loss：1.1639199256896973\n",
      "382.3623592853546\n",
      "训练次数7000，Loss：0.966649055480957\n",
      "整体测试集上的loss：209.0075522661209\n",
      "整体测试集上的正确率：0.5220000147819519\n",
      "模型已保存\n",
      "-----------第10轮训练开始----------\n",
      "391.3702492713928\n",
      "训练次数7100，Loss：1.2913867235183716\n",
      "396.41244983673096\n",
      "训练次数7200，Loss：0.9932668209075928\n",
      "401.6673197746277\n",
      "训练次数7300，Loss：1.131043553352356\n",
      "407.1161427497864\n",
      "训练次数7400，Loss：0.8336287140846252\n",
      "412.512535572052\n",
      "训练次数7500，Loss：1.262831211090088\n",
      "417.7573981285095\n",
      "训练次数7600，Loss：1.245870590209961\n",
      "423.1035816669464\n",
      "训练次数7700，Loss：0.8711280822753906\n",
      "428.4364523887634\n",
      "训练次数7800，Loss：1.2855638265609741\n",
      "整体测试集上的loss：201.0057253241539\n",
      "整体测试集上的正确率：0.5412999987602234\n",
      "模型已保存\n"
     ]
    }
   ],
   "execution_count": 15
  },
  {
   "metadata": {},
   "cell_type": "code",
   "outputs": [],
   "execution_count": null,
   "source": "",
   "id": "977e92e053d0295b"
  }
 ],
 "metadata": {
  "kernelspec": {
   "display_name": "Python 3",
   "language": "python",
   "name": "python3"
  },
  "language_info": {
   "codemirror_mode": {
    "name": "ipython",
    "version": 2
   },
   "file_extension": ".py",
   "mimetype": "text/x-python",
   "name": "python",
   "nbconvert_exporter": "python",
   "pygments_lexer": "ipython2",
   "version": "2.7.6"
  }
 },
 "nbformat": 4,
 "nbformat_minor": 5
}
